{
 "cells": [
  {
   "cell_type": "markdown",
   "metadata": {},
   "source": [
    "# INF8775 – Analyse et conception d’algorithmes\n",
    "# TP3 – Hiver 2024"
   ]
  },
  {
   "cell_type": "markdown",
   "metadata": {},
   "source": [
    "NIYONKURU, Carine, 1747462\n",
    "\n",
    "KHNISSI, Zakarya, 1989641"
   ]
  },
  {
   "cell_type": "markdown",
   "metadata": {},
   "source": [
    "Note finale :"
   ]
  },
  {
   "cell_type": "markdown",
   "metadata": {},
   "source": [
    " <u>**Date limite de remise :**</u>  17 avril 23h59 (Groupe B1), 9 avril 23h59 (Groupe B2)"
   ]
  },
  {
   "cell_type": "markdown",
   "metadata": {},
   "source": [
    "# Instructions\n",
    "\n",
    "## Rédaction et remise du rapport\n",
    "\n",
    "- Ce notebook constitue à la fois le sujet du TP, votre code et votre rapport. Il contient déjà du code pour faciliter vos mesures et l'affichage de vos résultats, ainsi qu'un squelette pour votre rapport.\n",
    "\n",
    "- Complétez directement le notebook, vous êtes libres de créer de nouvelles cellules de code ou de texte. \n",
    "\n",
    "- Remettez le fichier du notebook sur Moodle avec le nom `NOM1_MATRICULE1_NOM2_MATRICULE2.ipynb`\n",
    "\n",
    "- Vous pouvez inclure du code trouvé sur Internet, mais vous devez en mentionner la source, sous peine d'être sanctionnés pour plagiat.\n",
    "\n",
    "## Mise en situation\n",
    "\n",
    "Le dernier travail pratique se fera dans le cadre du concours du meilleur algorithme pour la session d'hiver 2024. Vous devez concevoir et implanter un algorithme de votre cru pour résoudre un problème combinatoire. Le classement des équipes déterminera votre note pour la qualité de l'algorithme. Votre algorithme sera exécuté sur 3 exemplaires de notre choix, chacun pendant 1 minute.<br>\n",
    "Le rapport pour ce dernier travail pratique est assez succinct. Nous vous encourageons à terminer ce travail assez tôt afin de ne pas compromettre votre préparation à vos examens finaux.\n",
    "\n",
    "## Description du problème\n",
    "\n",
    "Le problème à résoudre est le suivant : Vous disposez d'un ensemble de blocs de dimensions variées en  hauteur, largeur et  profondeur décris par un triplet $(l, p, h)$ (largeur, profondeur, hauteur). Afin de garantir la stabilité de votre tour, vous devez vous assurer que le bloc que vous ajoutez sur votre tour repose entièrement sur le précédent.\n",
    "\n",
    "Plus formellement, les contraintes suivantes doivent être respectées :\n",
    "\n",
    "$$l_{nouveauBloc} \\leq l_{blocReceveur}  \\text{ et  } p_{nouveauBloc} \\leq p_{blocReceveur}$$\n",
    "\n",
    "On vous demande de construire plusieurs tours en utilisant tous les blocs d'une instance. En plus des contraintes d'équilibre, les tours ne doivent pas dépasser une hauteur maximum H. L'objectif est de minimiser le nombre de tours construites tout en respectant les contraintes décrites précédemment. Il est interdit de faire une rotation des blocs. Vous pouvez vérifier si votre solution est valide avec la fonction suivante :"
   ]
  },
  {
   "cell_type": "code",
   "execution_count": 9,
   "metadata": {},
   "outputs": [],
   "source": [
    "def check_solution(sample_blocks, H, solution):\n",
    "    maxHeightOK, blockSmallerOK, allBlocksUsed, onlyGivenBlocks = True, True, True, True\n",
    "    print(f\"Nombre de tours utilisées : {len(solution)}\")\n",
    "\n",
    "    for tower in solution:\n",
    "        if sum([b[2] for b in tower]) > H:\n",
    "            maxHeightOK = False\n",
    "            break\n",
    "    for t,tower in enumerate(solution):\n",
    "        for i in range(len(tower) - 1):\n",
    "            new_block = tower[i + 1]\n",
    "            receiving_block = tower[i]\n",
    "            if new_block[0] > receiving_block[0] or new_block[1] > receiving_block[1]:\n",
    "                blockSmallerOK = False\n",
    "                break\n",
    "    print(f\"Hauteur maximale non dépassée : {maxHeightOK}\\nPas de blocs plus gros reposant sur un plus petit : {blockSmallerOK}\")\n",
    "    \n",
    "    solution_blocks = [b for t in solution for b in t]\n",
    "    block_counts = {}\n",
    "    for b in sample_blocks:\n",
    "        if b not in block_counts.keys():\n",
    "            block_counts[b] = 0\n",
    "        block_counts[b] += 1\n",
    "    \n",
    "    for b in solution_blocks:\n",
    "        if b not in block_counts.keys():\n",
    "            onlyGivenBlocks = False\n",
    "            break\n",
    "        block_counts[b] -= 1\n",
    "        \n",
    "    for count in block_counts.values():\n",
    "        if count > 0:\n",
    "            allBlocksUsed = False\n",
    "        if count < 0:\n",
    "            onlyGivenBlocks = False\n",
    "        if not (allBlocksUsed and onlyGivenBlocks):\n",
    "            break\n",
    "    print(f\"Tous les blocs sont utilisés : {allBlocksUsed}\\nUniquement les blocs du sample sont utilisés : {onlyGivenBlocks}\")"
   ]
  },
  {
   "cell_type": "markdown",
   "metadata": {},
   "source": [
    "## Exemple\n",
    "\n",
    "Pour l'exemplaire de 4 blocs suivant : `[(1, 5, 8),(9, 6, 2), (8, 5, 4),(6, 2, 1)]`\n",
    "\n",
    "On évalue la solution de 2 tours (remarquez la liste de liste) :\n",
    "\n",
    "```\n",
    "[\n",
    "    [(1, 5, 8)],\n",
    "    [(9, 6, 2),(8, 5, 4), (6, 2, 1)]\n",
    "]\n",
    "```"
   ]
  },
  {
   "cell_type": "code",
   "execution_count": 47,
   "metadata": {},
   "outputs": [
    {
     "name": "stdout",
     "output_type": "stream",
     "text": [
      "Nombre de tours utilisées : 2\n",
      "Hauteur maximale non dépassée : True\n",
      "Pas de blocs plus gros reposant sur un plus petit : True\n",
      "Tous les blocs sont utilisés : True\n",
      "Uniquement les blocs du sample sont utilisés : True\n"
     ]
    }
   ],
   "source": [
    "s = [(1, 5, 8), (9, 6, 2), (8, 5, 4), (6, 2, 1)]\n",
    "check_solution(s, 9, [[(1,5,8)], [(9, 6, 2),(8,5,4),(6,2,1)]])"
   ]
  },
  {
   "cell_type": "code",
   "execution_count": 195,
   "metadata": {},
   "outputs": [
    {
     "data": {
      "text/plain": [
       "(1, 5)"
      ]
     },
     "execution_count": 195,
     "metadata": {},
     "output_type": "execute_result"
    }
   ],
   "source": [
    "s[0][0:2]"
   ]
  },
  {
   "cell_type": "code",
   "execution_count": 198,
   "metadata": {},
   "outputs": [
    {
     "data": {
      "text/plain": [
       "[(9, 6, 2), (9, 6, 8), (8, 5, 4), (6, 2, 1)]"
      ]
     },
     "execution_count": 198,
     "metadata": {},
     "output_type": "execute_result"
    }
   ],
   "source": [
    "import numpy as np\n",
    "\n",
    "l = s = [(9, 6, 8), (9, 6, 2), (8, 5, 4), (6, 2, 1)]\n",
    "\n",
    "sorted(l, key = lambda x: (-x[0], -x[1], x[2]))"
   ]
  },
  {
   "cell_type": "code",
   "execution_count": 89,
   "metadata": {},
   "outputs": [
    {
     "data": {
      "text/plain": [
       "4"
      ]
     },
     "execution_count": 89,
     "metadata": {},
     "output_type": "execute_result"
    }
   ],
   "source": [
    "len(s)"
   ]
  },
  {
   "cell_type": "markdown",
   "metadata": {},
   "source": [
    "\n",
    "## Jeu de données\n",
    "\n",
    "La fonction `generate_sample` ci-dessous permet de générer une liste de N blocs de dimensions variables.\n",
    "\n"
   ]
  },
  {
   "cell_type": "code",
   "execution_count": 11,
   "metadata": {},
   "outputs": [],
   "source": [
    "import numpy as np\n",
    "import matplotlib.pyplot as plt\n",
    "import time\n",
    "from random import randint"
   ]
  },
  {
   "cell_type": "code",
   "execution_count": 12,
   "metadata": {},
   "outputs": [],
   "source": [
    "def generate_sample(size, max_width=100, max_depth=100, max_height=20):\n",
    "    return [\n",
    "    (randint(1, max_width), randint(1, max_depth), randint(1, max_height))\n",
    "    for _ in range(size)\n",
    "    ]\n",
    "\n",
    "def writeFile(sample, H, filePath):\n",
    "    f = open(filePath, \"w+\")\n",
    "    f.write(f\"{H}\\n\")\n",
    "    for w, p, h in sample:\n",
    "        f.write(f\"{w} {p} {h}\\n\")\n",
    "    f.close()\n",
    "\n",
    "def readFile(filePath):\n",
    "    \"\"\"\n",
    "    Charger une instance depuis un fichier\n",
    "    \"\"\"\n",
    "    f = open(filePath)\n",
    "    lines = list(f)\n",
    "    H = int(lines[0])\n",
    "    blocks = [\n",
    "        tuple(map(int, x.split(' ')))\n",
    "        for x in lines[1:]\n",
    "    ]\n",
    "    f.close()\n",
    "    return H, blocks"
   ]
  },
  {
   "cell_type": "markdown",
   "metadata": {},
   "source": [
    "Utilisez la cellule ci-dessous pour vous créer des exemplaires de tailles variables, que vous pourrez réaccéder plus tard à l'aide de readFile()"
   ]
  },
  {
   "cell_type": "code",
   "execution_count": 201,
   "metadata": {},
   "outputs": [],
   "source": [
    "writeFile(generate_sample(size=10, max_width=100, max_depth=100, max_height=10), 15, 'instance_test.txt')"
   ]
  },
  {
   "cell_type": "markdown",
   "metadata": {},
   "source": [
    "## Votre algorithme \n",
    "\n",
    "### Présentation\n",
    "\n",
    "Présentez votre algorithme sous forme de pseudo-code et incluant une analyse de complexité théorique des principales fonctions."
   ]
  },
  {
   "cell_type": "markdown",
   "metadata": {},
   "source": [
    "*Insérer votre réponse ici*"
   ]
  },
  {
   "cell_type": "markdown",
   "metadata": {},
   "source": [
    "### Implémentation\n",
    "\n",
    "Implémentez votre algorithme ci-dessous. Veillez à respecter le nom de la fonction, ses arguments, ainsi que le format de sortie."
   ]
  },
  {
   "cell_type": "code",
   "execution_count": 140,
   "metadata": {},
   "outputs": [],
   "source": [
    "def is_smaller(added_block, base_block):\n",
    "    return added_block[0] <= base_block[0] and added_block[1] <= base_block[1]\n",
    "\n",
    "\n",
    "def is_too_tall(h, block, tower_h):\n",
    "    block_height = block[2]\n",
    "    return h < block_height + tower_h"
   ]
  },
  {
   "cell_type": "code",
   "execution_count": 215,
   "metadata": {},
   "outputs": [],
   "source": [
    "def solve(blocks, H, maxTime=60, with_print = False):\n",
    "    \"\"\"\n",
    "    Retourne la liste des tours construites.\n",
    "    Une tour est une liste de bloc, où le bloc tour[i+1] est posé sur le bloc tour[i]\n",
    "    Un bloc est un tuple (largeur, profondeur, hauteur)\n",
    "    \"\"\"\n",
    "    # init params\n",
    "    output= [[]]\n",
    "    tower_number = 0 \n",
    "    idx = 0\n",
    "    new_block = ()\n",
    "\n",
    "    # Logically we want a huge base, and if two bases are the same size, we want a shorter height\n",
    "    # Sorted automatically sorts by priority in the tuple,\n",
    "    # So it goes L sort, then P sort then H sort\n",
    "    sorted_input = sorted(blocks.copy(), key = lambda x: (-x[0], -x[1], x[2]))\n",
    "    \n",
    "    while True:\n",
    "        # print(idx)\n",
    "\n",
    "        if idx <= len(sorted_input)-1:\n",
    "            new_block = sorted_input[idx]\n",
    "        else :\n",
    "            idx = 0\n",
    "            new_block = sorted_input[idx]\n",
    "            output.append([])\n",
    "            tower_number += 1\n",
    "        \n",
    "\n",
    "        current_tower = output[tower_number]\n",
    "        tower_height = np.sum([dimensions[2] for dimensions in current_tower if len(current_tower) > 0])\n",
    "        if with_print : \n",
    "            print(\"Current list\", sorted_input)\n",
    "            print(\"Selected :\", new_block, \" Tower height \", new_block[2] + tower_height)\n",
    "        \n",
    "        #if it's too tall don't even bother going forward\n",
    "        if (is_too_tall(H, new_block, tower_height)) :\n",
    "            idx += 1\n",
    "            continue\n",
    "        \n",
    "        if len(output[tower_number]) == 0:\n",
    "            current_tower.append(new_block)\n",
    "            sorted_input.remove(new_block)\n",
    "\n",
    "        elif is_smaller(added_block = new_block, base_block=current_tower[-1]):\n",
    "            if with_print : \n",
    "                print(\"All clear add block\")\n",
    "            output[tower_number].append(new_block)\n",
    "            sorted_input.remove(new_block)\n",
    "        \n",
    "        else:\n",
    "            idx += 1\n",
    "            \n",
    "\n",
    "        if with_print : \n",
    "            print(\"Current solution \", output)\n",
    "        \n",
    "        if len(sorted_input) < 1 :\n",
    "            break\n",
    "\n",
    "    return output"
   ]
  },
  {
   "cell_type": "code",
   "execution_count": 218,
   "metadata": {},
   "outputs": [
    {
     "name": "stdout",
     "output_type": "stream",
     "text": [
      "maxHeight : 15 \n",
      "Number of blocks : 10 \n",
      "\n",
      "Current list [(92, 57, 2), (72, 81, 4), (69, 33, 7), (67, 30, 1), (64, 28, 5), (57, 87, 1), (43, 58, 1), (38, 14, 7), (26, 38, 1), (10, 30, 8)]\n",
      "Selected : (92, 57, 2)  Tower height  2.0\n",
      "Current solution  [[(92, 57, 2)]]\n",
      "Current list [(72, 81, 4), (69, 33, 7), (67, 30, 1), (64, 28, 5), (57, 87, 1), (43, 58, 1), (38, 14, 7), (26, 38, 1), (10, 30, 8)]\n",
      "Selected : (72, 81, 4)  Tower height  6\n",
      "Current solution  [[(92, 57, 2)]]\n",
      "Current list [(72, 81, 4), (69, 33, 7), (67, 30, 1), (64, 28, 5), (57, 87, 1), (43, 58, 1), (38, 14, 7), (26, 38, 1), (10, 30, 8)]\n",
      "Selected : (69, 33, 7)  Tower height  9\n",
      "All clear add block\n",
      "Current solution  [[(92, 57, 2), (69, 33, 7)]]\n",
      "Current list [(72, 81, 4), (67, 30, 1), (64, 28, 5), (57, 87, 1), (43, 58, 1), (38, 14, 7), (26, 38, 1), (10, 30, 8)]\n",
      "Selected : (67, 30, 1)  Tower height  10\n",
      "All clear add block\n",
      "Current solution  [[(92, 57, 2), (69, 33, 7), (67, 30, 1)]]\n",
      "Current list [(72, 81, 4), (64, 28, 5), (57, 87, 1), (43, 58, 1), (38, 14, 7), (26, 38, 1), (10, 30, 8)]\n",
      "Selected : (64, 28, 5)  Tower height  15\n",
      "All clear add block\n",
      "Current solution  [[(92, 57, 2), (69, 33, 7), (67, 30, 1), (64, 28, 5)]]\n",
      "Current list [(72, 81, 4), (57, 87, 1), (43, 58, 1), (38, 14, 7), (26, 38, 1), (10, 30, 8)]\n",
      "Selected : (57, 87, 1)  Tower height  16\n",
      "Current list [(72, 81, 4), (57, 87, 1), (43, 58, 1), (38, 14, 7), (26, 38, 1), (10, 30, 8)]\n",
      "Selected : (43, 58, 1)  Tower height  16\n",
      "Current list [(72, 81, 4), (57, 87, 1), (43, 58, 1), (38, 14, 7), (26, 38, 1), (10, 30, 8)]\n",
      "Selected : (38, 14, 7)  Tower height  22\n",
      "Current list [(72, 81, 4), (57, 87, 1), (43, 58, 1), (38, 14, 7), (26, 38, 1), (10, 30, 8)]\n",
      "Selected : (26, 38, 1)  Tower height  16\n",
      "Current list [(72, 81, 4), (57, 87, 1), (43, 58, 1), (38, 14, 7), (26, 38, 1), (10, 30, 8)]\n",
      "Selected : (10, 30, 8)  Tower height  23\n",
      "Current list [(72, 81, 4), (57, 87, 1), (43, 58, 1), (38, 14, 7), (26, 38, 1), (10, 30, 8)]\n",
      "Selected : (72, 81, 4)  Tower height  4.0\n",
      "Current solution  [[(92, 57, 2), (69, 33, 7), (67, 30, 1), (64, 28, 5)], [(72, 81, 4)]]\n",
      "Current list [(57, 87, 1), (43, 58, 1), (38, 14, 7), (26, 38, 1), (10, 30, 8)]\n",
      "Selected : (57, 87, 1)  Tower height  5\n",
      "Current solution  [[(92, 57, 2), (69, 33, 7), (67, 30, 1), (64, 28, 5)], [(72, 81, 4)]]\n",
      "Current list [(57, 87, 1), (43, 58, 1), (38, 14, 7), (26, 38, 1), (10, 30, 8)]\n",
      "Selected : (43, 58, 1)  Tower height  5\n",
      "All clear add block\n",
      "Current solution  [[(92, 57, 2), (69, 33, 7), (67, 30, 1), (64, 28, 5)], [(72, 81, 4), (43, 58, 1)]]\n",
      "Current list [(57, 87, 1), (38, 14, 7), (26, 38, 1), (10, 30, 8)]\n",
      "Selected : (38, 14, 7)  Tower height  12\n",
      "All clear add block\n",
      "Current solution  [[(92, 57, 2), (69, 33, 7), (67, 30, 1), (64, 28, 5)], [(72, 81, 4), (43, 58, 1), (38, 14, 7)]]\n",
      "Current list [(57, 87, 1), (26, 38, 1), (10, 30, 8)]\n",
      "Selected : (26, 38, 1)  Tower height  13\n",
      "Current solution  [[(92, 57, 2), (69, 33, 7), (67, 30, 1), (64, 28, 5)], [(72, 81, 4), (43, 58, 1), (38, 14, 7)]]\n",
      "Current list [(57, 87, 1), (26, 38, 1), (10, 30, 8)]\n",
      "Selected : (10, 30, 8)  Tower height  20\n",
      "Current list [(57, 87, 1), (26, 38, 1), (10, 30, 8)]\n",
      "Selected : (57, 87, 1)  Tower height  1.0\n",
      "Current solution  [[(92, 57, 2), (69, 33, 7), (67, 30, 1), (64, 28, 5)], [(72, 81, 4), (43, 58, 1), (38, 14, 7)], [(57, 87, 1)]]\n",
      "Current list [(26, 38, 1), (10, 30, 8)]\n",
      "Selected : (26, 38, 1)  Tower height  2\n",
      "All clear add block\n",
      "Current solution  [[(92, 57, 2), (69, 33, 7), (67, 30, 1), (64, 28, 5)], [(72, 81, 4), (43, 58, 1), (38, 14, 7)], [(57, 87, 1), (26, 38, 1)]]\n",
      "Current list [(10, 30, 8)]\n",
      "Selected : (10, 30, 8)  Tower height  10\n",
      "All clear add block\n",
      "Current solution  [[(92, 57, 2), (69, 33, 7), (67, 30, 1), (64, 28, 5)], [(72, 81, 4), (43, 58, 1), (38, 14, 7)], [(57, 87, 1), (26, 38, 1), (10, 30, 8)]]\n",
      "Nombre de tours utilisées : 3\n",
      "Hauteur maximale non dépassée : True\n",
      "Pas de blocs plus gros reposant sur un plus petit : True\n",
      "Tous les blocs sont utilisés : True\n",
      "Uniquement les blocs du sample sont utilisés : True\n"
     ]
    }
   ],
   "source": [
    "H, blocks = readFile('instance_test.txt')\n",
    "print(\"maxHeight :\",H, \"\\nNumber of blocks :\",len(blocks),'\\n')\n",
    "\n",
    "output = solve(blocks, H, with_print= True)\n",
    "check_solution(blocks, H, output)"
   ]
  },
  {
   "cell_type": "code",
   "execution_count": 200,
   "metadata": {},
   "outputs": [
    {
     "name": "stdout",
     "output_type": "stream",
     "text": [
      "maxHeight : 100 \n",
      "Number of blocks : 1000 \n",
      "\n",
      "Nombre de tours utilisées : 65\n",
      "Hauteur maximale non dépassée : True\n",
      "Pas de blocs plus gros reposant sur un plus petit : True\n",
      "Tous les blocs sont utilisés : True\n",
      "Uniquement les blocs du sample sont utilisés : True\n"
     ]
    }
   ],
   "source": [
    "H, blocks = readFile('instance1.txt')\n",
    "print(\"maxHeight :\",H, \"\\nNumber of blocks :\",len(blocks),'\\n')\n",
    "\n",
    "output = solve(blocks, H)\n",
    "check_solution(blocks, H, output)"
   ]
  },
  {
   "cell_type": "markdown",
   "metadata": {},
   "source": [
    "### Justification des choix de conception\n",
    "\n",
    "La conception de votre algorithme sera jugé avec les critères suivants:\n",
    "\n",
    "- Lien avec le contenu du cours\n",
    "- Originalité\n",
    "- Initiatives"
   ]
  },
  {
   "cell_type": "markdown",
   "metadata": {},
   "source": [
    "*Insérer votre réponse ici*"
   ]
  },
  {
   "cell_type": "markdown",
   "metadata": {},
   "source": [
    "### Votre algorithme est-il certain de trouver une solution optimale ? "
   ]
  },
  {
   "cell_type": "markdown",
   "metadata": {},
   "source": [
    "*Insérer votre réponse ici*"
   ]
  },
  {
   "cell_type": "markdown",
   "metadata": {},
   "source": [
    "## Barême complémentaire\n",
    "\n",
    "### Qualité de l'algorithme (i.e des solutions) : /4\n",
    "<p style='text-align: justify;'> \n",
    "Vos algorithmes seront testés pendant 1 minute sur 3 exemplaires cachés. D'abord, vous gagnerez 1pt si votre algorithme est capable de battre notre algorithme baseline sur chacun des 3 exemplaires. Les 3 points restants seront distribués en fonction de votre classement par rapport aux autres équipes. Etre dans le premier quartile vous donne 1pt par exemplaire, le 2e quartile 0.75pts etc... et 0.25pts pour le dernier quartile. Ainsi si vous battez la baseline, vous êtes surs d'avoir au minimum 1.75/4 pts pour cette partie. <br>\n",
    "L'évaluation prend également en compte le temps d'execution, avec une forte bonification pour les algorithmes inférieurs à 5 secondes, et converge vers pas de bonification pour les algorithmes durant 1 minutes : \n",
    "</p>\n",
    "\n",
    "$$ Score = - \\frac{N_{towers}}{b(t)} \\text{\\hspace{0.1cm} avec \\hspace{0.1cm}} b(t) = \\min(1.5, 1+\\frac{5}{2t}) $$\n",
    "\n",
    "Si votre algorithme ne renvoie pas de solution dans le temps imparti ou que la solution n'est pas valide, alors vous n'obtiendrez pas de point pour cet exemplaire.\n",
    "\n",
    "Qualité du code : /1\n",
    "\n",
    "Présentation générale (concision, qualité du français): /1"
   ]
  }
 ],
 "metadata": {
  "kernelspec": {
   "display_name": "Python 3 (ipykernel)",
   "language": "python",
   "name": "python3"
  },
  "language_info": {
   "codemirror_mode": {
    "name": "ipython",
    "version": 3
   },
   "file_extension": ".py",
   "mimetype": "text/x-python",
   "name": "python",
   "nbconvert_exporter": "python",
   "pygments_lexer": "ipython3",
   "version": "3.9.16"
  }
 },
 "nbformat": 4,
 "nbformat_minor": 4
}

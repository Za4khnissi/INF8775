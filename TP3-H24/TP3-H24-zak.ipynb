{
 "cells": [
  {
   "cell_type": "markdown",
   "metadata": {},
   "source": [
    "# INF8775 – Analyse et conception d’algorithmes\n",
    "# TP3 – Hiver 2024"
   ]
  },
  {
   "cell_type": "markdown",
   "metadata": {},
   "source": [
    "NIYONKURU, Carine, 1747462\n",
    "\n",
    "KHNISSI, Zakarya, 1989641"
   ]
  },
  {
   "cell_type": "markdown",
   "metadata": {},
   "source": [
    "Note finale :"
   ]
  },
  {
   "cell_type": "markdown",
   "metadata": {},
   "source": [
    " <u>**Date limite de remise :**</u>  17 avril 23h59 (Groupe B1), 9 avril 23h59 (Groupe B2)"
   ]
  },
  {
   "cell_type": "markdown",
   "metadata": {},
   "source": [
    "# Instructions\n",
    "\n",
    "## Rédaction et remise du rapport\n",
    "\n",
    "- Ce notebook constitue à la fois le sujet du TP, votre code et votre rapport. Il contient déjà du code pour faciliter vos mesures et l'affichage de vos résultats, ainsi qu'un squelette pour votre rapport.\n",
    "\n",
    "- Complétez directement le notebook, vous êtes libres de créer de nouvelles cellules de code ou de texte. \n",
    "\n",
    "- Remettez le fichier du notebook sur Moodle avec le nom `NOM1_MATRICULE1_NOM2_MATRICULE2.ipynb`\n",
    "\n",
    "- Vous pouvez inclure du code trouvé sur Internet, mais vous devez en mentionner la source, sous peine d'être sanctionnés pour plagiat.\n",
    "\n",
    "## Mise en situation\n",
    "\n",
    "Le dernier travail pratique se fera dans le cadre du concours du meilleur algorithme pour la session d'hiver 2024. Vous devez concevoir et implanter un algorithme de votre cru pour résoudre un problème combinatoire. Le classement des équipes déterminera votre note pour la qualité de l'algorithme. Votre algorithme sera exécuté sur 3 exemplaires de notre choix, chacun pendant 1 minute.<br>\n",
    "Le rapport pour ce dernier travail pratique est assez succinct. Nous vous encourageons à terminer ce travail assez tôt afin de ne pas compromettre votre préparation à vos examens finaux.\n",
    "\n",
    "## Description du problème\n",
    "\n",
    "Le problème à résoudre est le suivant : Vous disposez d'un ensemble de blocs de dimensions variées en  hauteur, largeur et  profondeur décris par un triplet $(l, p, h)$ (largeur, profondeur, hauteur). Afin de garantir la stabilité de votre tour, vous devez vous assurer que le bloc que vous ajoutez sur votre tour repose entièrement sur le précédent.\n",
    "\n",
    "Plus formellement, les contraintes suivantes doivent être respectées :\n",
    "\n",
    "$$l_{nouveauBloc} \\leq l_{blocReceveur}  \\text{ et  } p_{nouveauBloc} \\leq p_{blocReceveur}$$\n",
    "\n",
    "On vous demande de construire plusieurs tours en utilisant tous les blocs d'une instance. En plus des contraintes d'équilibre, les tours ne doivent pas dépasser une hauteur maximum H. L'objectif est de minimiser le nombre de tours construites tout en respectant les contraintes décrites précédemment. Il est interdit de faire une rotation des blocs. Vous pouvez vérifier si votre solution est valide avec la fonction suivante :"
   ]
  },
  {
   "cell_type": "code",
   "execution_count": 9,
   "metadata": {},
   "outputs": [],
   "source": [
    "def check_solution(sample_blocks, H, solution):\n",
    "    maxHeightOK, blockSmallerOK, allBlocksUsed, onlyGivenBlocks = True, True, True, True\n",
    "    print(f\"Nombre de tours utilisées : {len(solution)}\")\n",
    "\n",
    "    for tower in solution:\n",
    "        if sum([b[2] for b in tower]) > H:\n",
    "            maxHeightOK = False\n",
    "            break\n",
    "    for t,tower in enumerate(solution):\n",
    "        for i in range(len(tower) - 1):\n",
    "            new_block = tower[i + 1]\n",
    "            receiving_block = tower[i]\n",
    "            if new_block[0] > receiving_block[0] or new_block[1] > receiving_block[1]:\n",
    "                blockSmallerOK = False\n",
    "                break\n",
    "    print(f\"Hauteur maximale non dépassée : {maxHeightOK}\\nPas de blocs plus gros reposant sur un plus petit : {blockSmallerOK}\")\n",
    "    \n",
    "    solution_blocks = [b for t in solution for b in t]\n",
    "    block_counts = {}\n",
    "    for b in sample_blocks:\n",
    "        if b not in block_counts.keys():\n",
    "            block_counts[b] = 0\n",
    "        block_counts[b] += 1\n",
    "    \n",
    "    for b in solution_blocks:\n",
    "        if b not in block_counts.keys():\n",
    "            onlyGivenBlocks = False\n",
    "            break\n",
    "        block_counts[b] -= 1\n",
    "        \n",
    "    for count in block_counts.values():\n",
    "        if count > 0:\n",
    "            allBlocksUsed = False\n",
    "        if count < 0:\n",
    "            onlyGivenBlocks = False\n",
    "        if not (allBlocksUsed and onlyGivenBlocks):\n",
    "            break\n",
    "    print(f\"Tous les blocs sont utilisés : {allBlocksUsed}\\nUniquement les blocs du sample sont utilisés : {onlyGivenBlocks}\")"
   ]
  },
  {
   "cell_type": "markdown",
   "metadata": {},
   "source": [
    "## Exemple\n",
    "\n",
    "Pour l'exemplaire de 4 blocs suivant : `[(1, 5, 8),(9, 6, 2), (8, 5, 4),(6, 2, 1)]`\n",
    "\n",
    "On évalue la solution de 2 tours (remarquez la liste de liste) :\n",
    "\n",
    "```\n",
    "[\n",
    "    [(1, 5, 8)],\n",
    "    [(9, 6, 2),(8, 5, 4), (6, 2, 1)]\n",
    "]\n",
    "```"
   ]
  },
  {
   "cell_type": "code",
   "execution_count": 10,
   "metadata": {},
   "outputs": [
    {
     "name": "stdout",
     "output_type": "stream",
     "text": [
      "Nombre de tours utilisées : 2\n",
      "Hauteur maximale non dépassée : True\n",
      "Pas de blocs plus gros reposant sur un plus petit : True\n",
      "Tous les blocs sont utilisés : True\n",
      "Uniquement les blocs du sample sont utilisés : True\n"
     ]
    }
   ],
   "source": [
    "s = [(1, 5, 8), (9, 6, 2), (8, 5, 4), (6, 2, 1)]\n",
    "check_solution(s, 9, [[(1,5,8)], [(9, 6, 2),(8,5,4),(6,2,1)]])"
   ]
  },
  {
   "cell_type": "markdown",
   "metadata": {},
   "source": [
    "\n",
    "## Jeu de données\n",
    "\n",
    "La fonction `generate_sample` ci-dessous permet de générer une liste de N blocs de dimensions variables.\n",
    "\n"
   ]
  },
  {
   "cell_type": "code",
   "execution_count": 11,
   "metadata": {},
   "outputs": [],
   "source": [
    "import numpy as np\n",
    "import matplotlib.pyplot as plt\n",
    "import time\n",
    "from random import randint"
   ]
  },
  {
   "cell_type": "code",
   "execution_count": 12,
   "metadata": {},
   "outputs": [],
   "source": [
    "def generate_sample(size, max_width=100, max_depth=100, max_height=20):\n",
    "    return [\n",
    "    (randint(1, max_width), randint(1, max_depth), randint(1, max_height))\n",
    "    for _ in range(size)\n",
    "    ]\n",
    "\n",
    "def writeFile(sample, H, filePath):\n",
    "    f = open(filePath, \"w+\")\n",
    "    f.write(f\"{H}\\n\")\n",
    "    for w, p, h in sample:\n",
    "        f.write(f\"{w} {p} {h}\\n\")\n",
    "    f.close()\n",
    "\n",
    "def readFile(filePath):\n",
    "    \"\"\"\n",
    "    Charger une instance depuis un fichier\n",
    "    \"\"\"\n",
    "    f = open(filePath)\n",
    "    lines = list(f)\n",
    "    H = int(lines[0])\n",
    "    blocks = [\n",
    "        tuple(map(int, x.split(' ')))\n",
    "        for x in lines[1:]\n",
    "    ]\n",
    "    f.close()\n",
    "    return H, blocks"
   ]
  },
  {
   "cell_type": "markdown",
   "metadata": {},
   "source": [
    "Utilisez la cellule ci-dessous pour vous créer des exemplaires de tailles variables, que vous pourrez réaccéder plus tard à l'aide de readFile()"
   ]
  },
  {
   "cell_type": "code",
   "execution_count": 13,
   "metadata": {},
   "outputs": [],
   "source": [
    "writeFile(generate_sample(size=100, max_width=100, max_depth=100, max_height=10), 15, 'instance1.txt')\n",
    "writeFile(generate_sample(size=50000, max_width=100, max_depth=100, max_height=10), 150, 'instance_test.txt')\n"
   ]
  },
  {
   "cell_type": "markdown",
   "metadata": {},
   "source": [
    "## Votre algorithme \n",
    "\n",
    "### Présentation\n",
    "\n",
    "Présentez votre algorithme sous forme de pseudo-code et incluant une analyse de complexité théorique des principales fonctions."
   ]
  },
  {
   "cell_type": "markdown",
   "metadata": {},
   "source": [
    "### Implémentation\n",
    "\n",
    "Implémentez votre algorithme ci-dessous. Veillez à respecter le nom de la fonction, ses arguments, ainsi que le format de sortie."
   ]
  },
  {
   "cell_type": "code",
   "execution_count": 19,
   "metadata": {},
   "outputs": [
    {
     "name": "stdout",
     "output_type": "stream",
     "text": [
      "maxHeight : 15 \n",
      "Number of blocks : 100 \n",
      "\n",
      "maxHeight : 500 \n",
      "Number of blocks : 10000 \n",
      "\n",
      "maxHeight : 800 \n",
      "Number of blocks : 20000 \n",
      "\n"
     ]
    }
   ],
   "source": [
    "instances = []\n",
    "for i in range(3):\n",
    "    H, blocks = readFile(f\"instance{i + 1}.txt\")\n",
    "    print(\"maxHeight :\",H, \"\\nNumber of blocks :\",len(blocks),'\\n')\n",
    "    instances.append((H, blocks))"
   ]
  },
  {
   "cell_type": "markdown",
   "metadata": {},
   "source": [
    "### Justification des choix de conception\n",
    "\n",
    "La conception de votre algorithme sera jugé avec les critères suivants:\n",
    "\n",
    "- Lien avec le contenu du cours\n",
    "- Originalité\n",
    "- Initiatives"
   ]
  },
  {
   "cell_type": "markdown",
   "metadata": {},
   "source": [
    "### Votre algorithme est-il certain de trouver une solution optimale ? "
   ]
  },
  {
   "cell_type": "markdown",
   "metadata": {},
   "source": [
    "*Insérer votre réponse ici*"
   ]
  },
  {
   "cell_type": "code",
   "execution_count": 39,
   "metadata": {},
   "outputs": [],
   "source": [
    "import matplotlib.pyplot as plt\n",
    "\n",
    "def b(t):\n",
    "    return np.minimum(1.5, 1 + 5 / (2 * t))\n",
    "\n",
    "def loss(num_towers, t):\n",
    "    return num_towers / b(t)\n",
    "\n",
    "\n",
    "# verifier si la largeur et la profondeur des blocs sont inferieurs aux blocs ou on va placer dessus\n",
    "def check_block_fit(block, current_block, MAX_HEIGHT, current_height):\n",
    "    return block[0] < current_block[0] and block[1] < current_block[1] and block[2] + current_height <= MAX_HEIGHT\n",
    "\n",
    "def solve(blocks, H, maxTime=60):\n",
    "    start = time.time()\n",
    "    \n",
    "    # trier les blocs par ordre décroissant de largeur, puis de profondeur, puis de hauteur\n",
    "    blocks = sorted(blocks, key=lambda block: (-block[0], -block[1], block[2]))\n",
    "    towers = []\n",
    "    \n",
    "    for block in blocks:\n",
    "        if time.time() - start > maxTime - 0.1:\n",
    "            break\n",
    "        \n",
    "        placed = False\n",
    "        for tower in towers:\n",
    "            current_height = sum(b[2] for b in tower)\n",
    "            \n",
    "            # si la tour est vide ou si le bloc peut être placé sur le dernier bloc de la tour\n",
    "            if len(tower) == 0 or check_block_fit(block, tower[-1], H, current_height):\n",
    "                tower.append(block)\n",
    "                placed = True\n",
    "                break\n",
    "        \n",
    "        # si le bloc n'a pas été placé dans une tour existante, on crée une nouvelle tour\n",
    "        if not placed:\n",
    "            towers.append([block])\n",
    "    \n",
    "    elapsed_time = max(1e-9, time.time() - start)\n",
    "    num_towers = len(towers)\n",
    "    b_t = b(elapsed_time)\n",
    "    score = num_towers / b_t\n",
    "\n",
    "    print(f\"Score: {score:.5f}\")\n",
    "    print(f\"Temps: {elapsed_time:.5f} seconds\")\n",
    "    return towers, elapsed_time, score"
   ]
  },
  {
   "cell_type": "code",
   "execution_count": 49,
   "metadata": {},
   "outputs": [
    {
     "name": "stdout",
     "output_type": "stream",
     "text": [
      "Instance 1\n",
      "Score: 26.00000\n",
      "Temps: 0.00100 seconds\n",
      "Nombre de tours utilisées : 39\n",
      "Hauteur maximale non dépassée : True\n",
      "Pas de blocs plus gros reposant sur un plus petit : True\n",
      "Tous les blocs sont utilisés : True\n",
      "Uniquement les blocs du sample sont utilisés : True\n",
      "\n",
      "Instance 2\n",
      "Score: 146.66667\n",
      "Temps: 1.28974 seconds\n",
      "Nombre de tours utilisées : 220\n",
      "Hauteur maximale non dépassée : True\n",
      "Pas de blocs plus gros reposant sur un plus petit : True\n",
      "Tous les blocs sont utilisés : True\n",
      "Uniquement les blocs du sample sont utilisés : True\n",
      "\n",
      "Instance 3\n",
      "Score: 185.35533\n",
      "Temps: 5.00178 seconds\n",
      "Nombre de tours utilisées : 278\n",
      "Hauteur maximale non dépassée : True\n",
      "Pas de blocs plus gros reposant sur un plus petit : True\n",
      "Tous les blocs sont utilisés : True\n",
      "Uniquement les blocs du sample sont utilisés : True\n",
      "\n"
     ]
    },
    {
     "data": {
      "image/png": "[encoded data removed]",
      "text/plain": [
       "<Figure size 1200x600 with 1 Axes>"
      ]
     },
     "metadata": {},
     "output_type": "display_data"
    }
   ],
   "source": [
    "import time\n",
    "from adjustText import adjust_text\n",
    "\n",
    "b_t = b(1.5)\n",
    "scores = []\n",
    "times = []\n",
    "texts = []\n",
    "\n",
    "T_values = np.linspace(1, 60, 500)\n",
    "b_values = [b(t) for t in T_values]\n",
    "\n",
    "plt.figure(figsize=(12, 6))\n",
    "plt.plot(T_values, b_values, label='b(t)')\n",
    "\n",
    "for i, (H, blocks) in enumerate(instances):\n",
    "    print(f\"Instance {i + 1}\")\n",
    "    solution, elapsed_time, score = solve(blocks, H)\n",
    "    scores.append(score)\n",
    "    times.append(elapsed_time)\n",
    "    check_solution(blocks, H, solution)\n",
    "    b_t = min(1.5, 1 + 5 / (2 * elapsed_time))\n",
    "    print()\n",
    "\n",
    "plt.scatter(times, [b(t) for t in times], color='red', zorder=5)\n",
    "\n",
    "for i, (score, time) in enumerate(zip(scores, times)):\n",
    "    text = plt.text(time, b(time), str(i + 1), ha='center', va='center')\n",
    "    texts.append(text)\n",
    "\n",
    "adjust_text(texts,\n",
    "            only_move={'points':'y', 'texts':'y'},\n",
    "            arrowprops=dict(arrowstyle=\"->\", color='r', lw=0.5))\n",
    "\n",
    "plt.xlabel('t(s)')\n",
    "plt.ylabel('b(t)')\n",
    "plt.title('b(t) Function with Instance Scores Over Time')\n",
    "plt.legend()\n",
    "plt.grid(True)\n",
    "plt.show()\n"
   ]
  },
  {
   "cell_type": "markdown",
   "metadata": {},
   "source": [
    "## Barême complémentaire\n",
    "\n",
    "### Qualité de l'algorithme (i.e des solutions) : /4\n",
    "<p style='text-align: justify;'> \n",
    "Vos algorithmes seront testés pendant 1 minute sur 3 exemplaires cachés. D'abord, vous gagnerez 1pt si votre algorithme est capable de battre notre algorithme baseline sur chacun des 3 exemplaires. Les 3 points restants seront distribués en fonction de votre classement par rapport aux autres équipes. Etre dans le premier quartile vous donne 1pt par exemplaire, le 2e quartile 0.75pts etc... et 0.25pts pour le dernier quartile. Ainsi si vous battez la baseline, vous êtes surs d'avoir au minimum 1.75/4 pts pour cette partie. <br>\n",
    "L'évaluation prend également en compte le temps d'execution, avec une forte bonification pour les algorithmes inférieurs à 5 secondes, et converge vers pas de bonification pour les algorithmes durant 1 minutes : \n",
    "</p>\n",
    "\n",
    "$$ Score = - \\frac{N_{towers}}{b(t)} \\text{\\hspace{0.1cm} avec \\hspace{0.1cm}} b(t) = \\min(1.5, 1+\\frac{5}{2t}) $$\n",
    "\n",
    "Si votre algorithme ne renvoie pas de solution dans le temps imparti ou que la solution n'est pas valide, alors vous n'obtiendrez pas de point pour cet exemplaire.\n",
    "\n",
    "Qualité du code : /1\n",
    "\n",
    "Présentation générale (concision, qualité du français): /1"
   ]
  }
 ],
 "metadata": {
  "kernelspec": {
   "display_name": "Python 3 (ipykernel)",
   "language": "python",
   "name": "python3"
  },
  "language_info": {
   "codemirror_mode": {
    "name": "ipython",
    "version": 3
   },
   "file_extension": ".py",
   "mimetype": "text/x-python",
   "name": "python",
   "nbconvert_exporter": "python",
   "pygments_lexer": "ipython3",
   "version": "3.12.0"
  }
 },
 "nbformat": 4,
 "nbformat_minor": 4
}
